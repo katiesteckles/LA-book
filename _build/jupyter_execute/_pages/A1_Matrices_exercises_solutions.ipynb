{
 "cells": [
  {
   "cell_type": "markdown",
   "metadata": {},
   "source": [
    "(matrices-exercises-solutions)=\n",
    "\n",
    "# Matrices Exercise Solutions\n",
    "\n",
    "```{solution} matrices-ex1\n",
    "\n",
    "(a) $ A = \\begin{pmatrix} \n",
    "    2 & 3 & 4 \\\\\n",
    "    3 & 4 & 5 \\\\\n",
    "    4 & 5 & 6 \n",
    "    \\end{pmatrix} $\n",
    "\n",
    "(b) $ B = \\begin{pmatrix}\n",
    "        1 & -1 & 1 & -1 \\\\\n",
    "        -1 & 1 & -1 & 1 \\\\\n",
    "        1 & -1 & 1 & -1 \\\\\n",
    "        -1 & 1 & -1 & 1\n",
    "        \\end{pmatrix} $\n",
    "\n",
    "(c) $ C = \\begin{pmatrix}\n",
    "        0 & 1 & 1 & 1 \\\\\n",
    "        -1 & 0 & 1 & 1 \\\\\n",
    "        -1 & -1 & 0 & 1 \\\\\n",
    "        -1 & -1 & -1 & 0\n",
    "    \\end{pmatrix} $\n",
    "```\n",
    "\n",
    "```{solution} matrices-ex-hilbert\n",
    "\n",
    "(a) &emsp; The $4 \\times 4$ Hilbert matrix is\n",
    "\n",
    "$$ \\begin{align*}\n",
    "    H = \n",
    "    \\begin{pmatrix}\n",
    "        1   & 1/2 & 1/3 & 1/4 \\\\\n",
    "        1/2 & 1/3 & 1/4 & 1/5 \\\\\n",
    "        1/3 & 1/4 & 1/5 & 1/6 \\\\\n",
    "        1/4 & 1/5 & 1/6 & 1/7\n",
    "    \\end{pmatrix}.\n",
    "\\end{align*} $$\n",
    "\n",
    "(b) &emsp; Since addition of two numbers is commutative, i.e., $i + j = j + i$ then $h_{ij} = h_{ji}$ for all $i, j = 1, 2, \\ldots, n$ then the $n \\times n$ Hilbert matrix is symmetric.  \n",
    "```\n",
    "\n",
    "```{solution} matrices-ex2\n",
    "\n",
    "(a) &emsp; $A + B = \\begin{pmatrix} 1 + 3 & -3 + 0 \\\\ 4 + (-1) & 2 + 5 \\end{pmatrix} = \\begin{pmatrix} 4 & -3 \\\\ 3 & 7 \\end{pmatrix}$\n",
    "\n",
    "(b) &emsp; $B + C$ is undefined since $B$ is $2\\times 2$ and $C$ is $2\\times 1$\n",
    "\n",
    "(c) &emsp; $A^\\mathsf{T} = \\begin{pmatrix} 1 & 4 \\\\ -3 & 2 \\end{pmatrix}$\n",
    "\n",
    "(d) &emsp; $C^\\mathsf{T} = \\begin{pmatrix} 5 & 9 \\end{pmatrix}$\n",
    "\n",
    "(e) &emsp; $3 B - A = \\begin{pmatrix} 9 & 0 \\\\ -3 & 15 \\end{pmatrix} - \\begin{pmatrix} 1 & -3 \\\\ 4 & 2 \\end{pmatrix} = \\begin{pmatrix} 8 & 3 \\\\ -7 & 13 \\end{pmatrix}$\n",
    "\n",
    "(f) &emsp;  $(F^\\mathsf{T})^\\mathsf{T} = \\begin{pmatrix} 1 \\\\ 2 \\\\ 4 \\end{pmatrix}^\\mathsf{T} = \\begin{pmatrix} 1 & -2 & 4 \\end{pmatrix} = F$\n",
    "\n",
    "(g) &emsp; $A^\\mathsf{T} + B^\\mathsf{T} = \\begin{pmatrix} 1 & 4 \\\\ -3 & 2 \\end{pmatrix} + \\begin{pmatrix} 3 & -1 \\\\ 0 & 5 \\end{pmatrix} = \\begin{pmatrix} 4 & 3 \\\\ -3 & 7 \\end{pmatrix}$\n",
    "\n",
    "(h) &emsp; $(A + B)^\\mathsf{T} = \\begin{pmatrix} 4 & -3 \\\\ 3 & 7 \\end{pmatrix}^\\mathsf{T} = \\begin{pmatrix} 4 & 3 \\\\ -3 & 7 \\end{pmatrix}$\n",
    "```\n",
    "\n",
    "\n"
   ]
  },
  {
   "cell_type": "code",
   "execution_count": 2,
   "metadata": {
    "tags": [
     "remove-cell"
    ]
   },
   "outputs": [
    {
     "data": {
      "text/latex": [
       "$\\displaystyle (a) \\quad A + B = \\left[\\begin{matrix}4 & -3\\\\3 & 7\\end{matrix}\\right]$"
      ],
      "text/plain": [
       "<IPython.core.display.Math object>"
      ]
     },
     "metadata": {},
     "output_type": "display_data"
    },
    {
     "data": {
      "text/latex": [
       "$\\displaystyle (b) \\quad B + C\\ is\\ undefined$"
      ],
      "text/plain": [
       "<IPython.core.display.Math object>"
      ]
     },
     "metadata": {},
     "output_type": "display_data"
    },
    {
     "data": {
      "text/latex": [
       "$\\displaystyle (c) \\quad A^\\mathsf{T} = \\left[\\begin{matrix}1 & 4\\\\-3 & 2\\end{matrix}\\right]$"
      ],
      "text/plain": [
       "<IPython.core.display.Math object>"
      ]
     },
     "metadata": {},
     "output_type": "display_data"
    },
    {
     "data": {
      "text/latex": [
       "$\\displaystyle (d) \\quad D + E^\\mathsf{T} = \\left[\\begin{matrix}2 & 1 & 1\\\\6 & 4 & 6\\end{matrix}\\right]$"
      ],
      "text/plain": [
       "<IPython.core.display.Math object>"
      ]
     },
     "metadata": {},
     "output_type": "display_data"
    },
    {
     "data": {
      "text/latex": [
       "$\\displaystyle (e) \\quad 3 B - A = \\left[\\begin{matrix}8 & 3\\\\-7 & 13\\end{matrix}\\right]$"
      ],
      "text/plain": [
       "<IPython.core.display.Math object>"
      ]
     },
     "metadata": {},
     "output_type": "display_data"
    },
    {
     "data": {
      "text/latex": [
       "$\\displaystyle (f) \\quad (F^\\mathsf{T})^\\mathsf{T} = \\left[\\begin{matrix}1 & -2 & 4\\end{matrix}\\right]$"
      ],
      "text/plain": [
       "<IPython.core.display.Math object>"
      ]
     },
     "metadata": {},
     "output_type": "display_data"
    },
    {
     "data": {
      "text/latex": [
       "$\\displaystyle (g) \\quad A^\\mathsf{T} + B^\\mathsf{T} = \\left[\\begin{matrix}4 & 3\\\\-3 & 7\\end{matrix}\\right]$"
      ],
      "text/plain": [
       "<IPython.core.display.Math object>"
      ]
     },
     "metadata": {},
     "output_type": "display_data"
    },
    {
     "data": {
      "text/latex": [
       "$\\displaystyle (h) \\quad (A + B)^\\mathsf{T} = \\left[\\begin{matrix}4 & 3\\\\-3 & 7\\end{matrix}\\right]$"
      ],
      "text/plain": [
       "<IPython.core.display.Math object>"
      ]
     },
     "metadata": {},
     "output_type": "display_data"
    }
   ],
   "source": [
    "import sympy as sp\n",
    "from IPython.display import display, Math\n",
    "\n",
    "A = sp.Matrix([[1, -3], [4, 2]])\n",
    "B = sp.Matrix([[3, 0], [-1, 5]])\n",
    "C = sp.Matrix([[5], [9]])\n",
    "D = sp.Matrix([[1, 1, 3], [4, -2, 3]])\n",
    "E = sp.Matrix([[1, 2], [0, 6], [-2, 3]])\n",
    "F = sp.Matrix([[1, -2, 4]])\n",
    "G = sp.Matrix([[4, 2, 3], [-2, 6, 0], [0, 7, 1]])\n",
    "H = sp.Matrix([[1, 0, 1], [5, 2, -2], [2, -3, 4]])\n",
    "\n",
    "display(Math(\"(a) \\quad A + B = \" + sp.latex(A+B)))\n",
    "display(Math(\"(b) \\quad B + C\\ is\\ undefined\"))\n",
    "display(Math(\"(c) \\quad A^\\mathsf{T} = \" + sp.latex(A.T)))\n",
    "display(Math(\"(d) \\quad D + E^\\mathsf{T} = \" + sp.latex(D + E.T)))\n",
    "display(Math(\"(e) \\quad 3 B - A = \" + sp.latex(3*B - A)))\n",
    "display(Math(\"(f) \\quad (F^\\mathsf{T})^\\mathsf{T} = \" + sp.latex(F.T.T)))\n",
    "display(Math(\"(g) \\quad A^\\mathsf{T} + B^\\mathsf{T} = \" + sp.latex(A.T + B.T)))\n",
    "display(Math(\"(h) \\quad (A + B)^\\mathsf{T} = \" + sp.latex((A + B).T)))"
   ]
  },
  {
   "cell_type": "markdown",
   "metadata": {},
   "source": [
    "```{solution} matrices-ex3\n",
    "\n",
    "(a) &emsp; $AB = \\begin{pmatrix} 1 & -3 \\\\ 4 & 2 \\end{pmatrix} \\begin{pmatrix} 3 & 0 \\\\ -1 & 5 \\end{pmatrix} = \\begin{pmatrix} 3 + 3 & 0 - 15 \\\\ 7 - 2 & 0 + 10 \\end{pmatrix} = \\begin{pmatrix}6 & -15 \\\\ 10 & 10 \\end{pmatrix}$\n",
    "\n",
    "(b) &emsp; $BA = \\begin{pmatrix} 3 & 0 \\\\ -1 & 5 \\end{pmatrix}\\begin{pmatrix} 1 & -3 \\\\ 4 & 2 \\end{pmatrix} = \\begin{pmatrix} 3 + 0 & -9 + 0 \\\\ -1 + 20 & 3 + 10 \\end{pmatrix} = \\begin{pmatrix} 3 & -9 \\\\ 19 & 13 \\end{pmatrix}$\n",
    "\n",
    "(c) &emsp; $AC = \\begin{pmatrix} 1 & -3 \\\\ 4 & 2 \\end{pmatrix}\\begin{pmatrix} 5 \\\\ 9 \\end{pmatrix} = \\begin{pmatrix} 15 - 27 \\\\ 20 + 18 \\end{pmatrix} = \\begin{pmatrix} -22 \\\\ 38 \\end{pmatrix}$\n",
    "\n",
    "(d) &emsp; $CA$ is undefined since $C$ has 1 column and $A$ has 2 rows\n",
    "\n",
    "(e) &emsp; $C^\\mathsf{T}C = \\begin{pmatrix} 5 & 9 \\end{pmatrix} \\begin{pmatrix} 5 \\\\ 9 \\end{pmatrix} = 25 + 81 = 106$\n",
    "\n",
    "(f) &emsp; $CC^\\mathsf{T} = \\begin{pmatrix} 5 \\\\ 9 \\end{pmatrix}\\begin{pmatrix} 5 & 9 \\end{pmatrix} = \\begin{pmatrix} 25 & 45 \\\\ 45 & 81 \\end{pmatrix}$\n",
    "\n",
    "(g) &emsp; \n",
    "\n",
    "$$ \\begin{align*}\n",
    "    DE &= \\begin{pmatrix} 1 & 1 & 3 \\\\ 4 & -2 & 3 \\end{pmatrix} \\begin{pmatrix} 1 & 2 \\\\ 0 & 6 \\\\ -2 & 3 \\end{pmatrix} = \\begin{pmatrix} 1 + 0 - 6 & 2 + 6 + 9 \\\\ 4 + 0 - 6 & 8 - 12 + 9 \\end{pmatrix} \\\\\n",
    "    &= \\begin{pmatrix} -5 & 17 \\\\ -2 & 5 \\end{pmatrix}\n",
    "\\end{align*} $$\n",
    "\n",
    "(h) &emsp; \n",
    "\n",
    "$$ \\begin{align*}\n",
    "    GH &= \\begin{pmatrix} 4 & 2 & 3 \\\\ -2 & 6 & 0 \\\\ 0 & 7 & 1 \\end{pmatrix}\n",
    "    \\begin{pmatrix} 1 & 0 & 1 \\\\ 5 & 2 & -2 \\\\ 2 & -3 & 4 \\end{pmatrix} \\\\\n",
    "    &= \\begin{pmatrix} \n",
    "        4 + 10 + 6 & 0 + 4 - 9 & 4 - 4 + 12 \\\\\n",
    "        -2 + 30 + 0 & 0 + 12 + 0 & -2 - 12 + 0 \\\\\n",
    "        0 + 35 + 2 & 0 + 14 - 3 & 0 - 14 + 4\n",
    "    \\end{pmatrix} \\\\\n",
    "    &= \\begin{pmatrix} 20 & -5 & 12 \\\\ 28 & 12 & -14 \\\\ 37 & 11 & -10 \\end{pmatrix}\n",
    "\\end{align*} $$\n",
    "\n",
    "(i) &emsp; \n",
    "\n",
    "$$ \\begin{align*}\n",
    "    A(DE) &= \\begin{pmatrix} 1 & -3 \\\\ 4 & 2 \\end{pmatrix} \\left(\n",
    "    \\begin{pmatrix} 1 & 1 & 3 \\\\ 4 & -2 & 3 \\end{pmatrix} \n",
    "    \\begin{pmatrix} 1 & 2 \\\\ 0 & 6 \\\\ -2 & 3 \\end{pmatrix} \\right) \\\\\n",
    "    &= \\begin{pmatrix} 1 & -3 \\\\ 4 & 2 \\end{pmatrix}\n",
    "    \\begin{pmatrix} -5 & 17 \\\\ -2 & 5 \\end{pmatrix} \\\\\n",
    "    &= \\begin{pmatrix} 1 & 2 \\\\ -24 & 78 \\end{pmatrix}\n",
    "\\end{align*} $$\n",
    "\n",
    "(j) &emsp; \n",
    "\n",
    "$$ \\begin{align*}\n",
    "    (AD)E &= \\left(\n",
    "    \\begin{pmatrix} 1 & -3 \\\\ 4 & 2 \\end{pmatrix}\n",
    "    \\begin{pmatrix} 1 & 1 & 3 \\\\ 4 & -2 & 3 \\end{pmatrix}\n",
    "    \\right)\n",
    "    \\begin{pmatrix} 1 & 2 \\\\ 0 & 6 \\\\ -2 & 3 \\end{pmatrix} \\\\\n",
    "    &= \\begin{pmatrix} -11 & 7 & -6 \\\\ 12 & 0 & 18 \\end{pmatrix}\n",
    "    \\begin{pmatrix} 1 & 2 \\\\ 0 & 6 \\\\ -2 & 3 \\end{pmatrix} \\\\\n",
    "    &= \\begin{pmatrix} 1 & 2 \\\\ -24 & 78 \\end{pmatrix}\n",
    "\\end{align*} $$\n",
    "\n",
    "(k) &emsp; \n",
    "\n",
    "$$ \\begin{align*}\n",
    "    A^3 &= \\begin{pmatrix} 1 & -3 \\\\ 4 & 2 \\end{pmatrix}\n",
    "    \\begin{pmatrix} 1 & -3 \\\\ 4 & 2 \\end{pmatrix}\n",
    "    \\begin{pmatrix} 1 & -3 \\\\ 4 & 2 \\end{pmatrix} \\\\\n",
    "    &= \\begin{pmatrix} -11 & -9 \\\\ 12 & -8 \\end{pmatrix}\n",
    "    \\begin{pmatrix} 1 & -3 \\\\ 4 & 2 \\end{pmatrix} \\\\\n",
    "    &= \\begin{pmatrix} -47 & 15 \\\\ -20 & -52 \\end{pmatrix}\n",
    "\\end{align*} $$\n",
    "\n",
    "(l) &emsp; \n",
    "\n",
    "$$ \\begin{align*}\n",
    "    G^2 &= \\begin{pmatrix} 4 & 2 & 3 \\\\ -2 & 6 & 0 \\\\ 0 & 7 & 1 \\end{pmatrix}\n",
    "    \\begin{pmatrix} 4 & 2 & 3 \\\\ -2 & 6 & 0 \\\\ 0 & 7 & 1 \\end{pmatrix} \\\\\n",
    "    &= \\begin{pmatrix} 12 & 41 & 15 \\\\ -20 & 32 & -6 \\\\ -14 & 49 & 1 \\end{pmatrix} \\\\\n",
    "    \\therefore G^4 &= G^2G^2 = \n",
    "    \\begin{pmatrix} 12 & 41 & 15 \\\\ -20 & 32 & -6 \\\\ -14 & 49 & 1 \\end{pmatrix}\n",
    "    \\begin{pmatrix} 12 & 41 & 15 \\\\ -20 & 32 & -6 \\\\ -14 & 49 & 1 \\end{pmatrix} \\\\\n",
    "    &=\n",
    "    \\begin{pmatrix} -886 & 2539 & -51 \\\\ -796 & -90 & -498 \\\\ -1162 & 1043 & -503 \\end{pmatrix}\n",
    "\\end{align*} $$\n",
    "```"
   ]
  },
  {
   "cell_type": "code",
   "execution_count": 4,
   "metadata": {
    "tags": [
     "remove-cell"
    ]
   },
   "outputs": [
    {
     "data": {
      "text/latex": [
       "$\\displaystyle (a) \\quad A B = \\left[\\begin{matrix}6 & -15\\\\10 & 10\\end{matrix}\\right]$"
      ],
      "text/plain": [
       "<IPython.core.display.Math object>"
      ]
     },
     "metadata": {},
     "output_type": "display_data"
    },
    {
     "data": {
      "text/latex": [
       "$\\displaystyle (b) \\quad B A = \\left[\\begin{matrix}3 & -9\\\\19 & 13\\end{matrix}\\right]$"
      ],
      "text/plain": [
       "<IPython.core.display.Math object>"
      ]
     },
     "metadata": {},
     "output_type": "display_data"
    },
    {
     "data": {
      "text/latex": [
       "$\\displaystyle (c) \\quad A C = \\left[\\begin{matrix}-22\\\\38\\end{matrix}\\right]$"
      ],
      "text/plain": [
       "<IPython.core.display.Math object>"
      ]
     },
     "metadata": {},
     "output_type": "display_data"
    },
    {
     "data": {
      "text/latex": [
       "$\\displaystyle (d) \\quad C A\\ is\\ undefined$"
      ],
      "text/plain": [
       "<IPython.core.display.Math object>"
      ]
     },
     "metadata": {},
     "output_type": "display_data"
    },
    {
     "data": {
      "text/latex": [
       "$\\displaystyle (e) \\quad C^\\mathsf{T} C = \\left[\\begin{matrix}106\\end{matrix}\\right]$"
      ],
      "text/plain": [
       "<IPython.core.display.Math object>"
      ]
     },
     "metadata": {},
     "output_type": "display_data"
    },
    {
     "data": {
      "text/latex": [
       "$\\displaystyle (f) \\quad CC^\\mathsf{T} = \\left[\\begin{matrix}25 & 45\\\\45 & 81\\end{matrix}\\right]$"
      ],
      "text/plain": [
       "<IPython.core.display.Math object>"
      ]
     },
     "metadata": {},
     "output_type": "display_data"
    },
    {
     "data": {
      "text/latex": [
       "$\\displaystyle (g) \\quad D E = \\left[\\begin{matrix}-5 & 17\\\\-2 & 5\\end{matrix}\\right]$"
      ],
      "text/plain": [
       "<IPython.core.display.Math object>"
      ]
     },
     "metadata": {},
     "output_type": "display_data"
    },
    {
     "data": {
      "text/latex": [
       "$\\displaystyle (h) \\quad G H = \\left[\\begin{matrix}20 & -5 & 12\\\\28 & 12 & -14\\\\37 & 11 & -10\\end{matrix}\\right]$"
      ],
      "text/plain": [
       "<IPython.core.display.Math object>"
      ]
     },
     "metadata": {},
     "output_type": "display_data"
    },
    {
     "data": {
      "text/latex": [
       "$\\displaystyle (i) \\quad A (DE) = \\left[\\begin{matrix}1 & 2\\\\-24 & 78\\end{matrix}\\right]$"
      ],
      "text/plain": [
       "<IPython.core.display.Math object>"
      ]
     },
     "metadata": {},
     "output_type": "display_data"
    },
    {
     "data": {
      "text/latex": [
       "$\\displaystyle (j) \\quad (AD) E = \\left[\\begin{matrix}1 & 2\\\\-24 & 78\\end{matrix}\\right]$"
      ],
      "text/plain": [
       "<IPython.core.display.Math object>"
      ]
     },
     "metadata": {},
     "output_type": "display_data"
    },
    {
     "data": {
      "text/latex": [
       "$\\displaystyle (k) \\quad A^3 = \\left[\\begin{matrix}-47 & 15\\\\-20 & -52\\end{matrix}\\right]$"
      ],
      "text/plain": [
       "<IPython.core.display.Math object>"
      ]
     },
     "metadata": {},
     "output_type": "display_data"
    },
    {
     "data": {
      "text/latex": [
       "$\\displaystyle (l) \\quad G^4 = \\left[\\begin{matrix}-886 & 2539 & -51\\\\-796 & -90 & -498\\\\-1162 & 1043 & -503\\end{matrix}\\right]$"
      ],
      "text/plain": [
       "<IPython.core.display.Math object>"
      ]
     },
     "metadata": {},
     "output_type": "display_data"
    }
   ],
   "source": [
    "display(Math(\"(a) \\quad A B = \" + sp.latex(A * B)))\n",
    "display(Math(\"(b) \\quad B A = \" + sp.latex(B * A)))\n",
    "display(Math(\"(c) \\quad A C = \" + sp.latex(A * C)))\n",
    "display(Math(\"(d) \\quad C A\\ is\\ undefined\"))\n",
    "display(Math(\"(e) \\quad C^\\mathsf{T} C = \" + sp.latex(C.T * C)))\n",
    "display(Math(\"(f) \\quad CC^\\mathsf{T} = \" + sp.latex(C * C.T)))\n",
    "display(Math(\"(g) \\quad D E = \" + sp.latex(D * E)))\n",
    "display(Math(\"(h) \\quad G H = \" + sp.latex(G * H)))\n",
    "display(Math(\"(i) \\quad A (DE) = \" + sp.latex(A * (D * E))))\n",
    "display(Math(\"(j) \\quad (AD) E = \" + sp.latex((A * D) * E)))\n",
    "display(Math(\"(k) \\quad A^3 = \" + sp.latex(A ** 3)))\n",
    "display(Math(\"(l) \\quad G^4 = \" + sp.latex(G ** 4)))"
   ]
  },
  {
   "cell_type": "markdown",
   "metadata": {},
   "source": [
    "````{solution} matrices-ex-determinants\n",
    "\n",
    "(a) &emsp; $\\det(A) = \\begin{vmatrix} 1 & -3 \\\\ 4 & 2 \\end{vmatrix} = 1(2) - (-3)(4) = 14$\n",
    "\n",
    "(b) &emsp; $\\det(B) = \\begin{vmatrix} 3 & 0 \\\\ -1 & 5 \\end{vmatrix} = 3(5) - 0 (-1) = 15$\n",
    "\n",
    "(c) &emsp;\n",
    "$\\begin{align*}\n",
    "    \\det(G) &= \n",
    "    \\begin{vmatrix}\n",
    "         4 & 2 & 3 \\\\\n",
    "        -2 & 6 & 0 \\\\\n",
    "         0 & 7 & 1\n",
    "    \\end{vmatrix}\n",
    "    = 4\n",
    "    \\begin{vmatrix} 6 & 0 \\\\ 7 & 1 \\end{vmatrix} \n",
    "    - (-2)\n",
    "    \\begin{vmatrix} 2 & 3 \\\\ 7 & 1 \\end{vmatrix}\n",
    "    = 4(6 - 0) + 2(2 - 21) = -14\n",
    "\\end{align*} $\n",
    "\n",
    "(d) &emsp; \n",
    "$\\begin{align*}\n",
    "    \\det(H) &=\n",
    "    \\begin{vmatrix}\n",
    "        1 &  0 &  1 \\\\\n",
    "        5 &  2 & -2 \\\\ \n",
    "        2 & -3 &  4\n",
    "    \\end{vmatrix}\n",
    "    =\n",
    "    \\begin{vmatrix} 2 & -2 \\\\ -3 &  4 \\end{vmatrix} +\n",
    "    \\begin{vmatrix} 5 &  2 \\\\  2 & -3 \\end{vmatrix}\n",
    "    = (8 - 6) + (-15 - 4) = -17\n",
    "\\end{align*} $\n",
    "````"
   ]
  },
  {
   "cell_type": "code",
   "execution_count": 12,
   "metadata": {
    "tags": [
     "remove-cell"
    ]
   },
   "outputs": [
    {
     "data": {
      "text/latex": [
       "$\\displaystyle (a) \\quad \\det(A) = 14$"
      ],
      "text/plain": [
       "<IPython.core.display.Math object>"
      ]
     },
     "metadata": {},
     "output_type": "display_data"
    },
    {
     "data": {
      "text/latex": [
       "$\\displaystyle (b) \\quad \\det(B) = 15$"
      ],
      "text/plain": [
       "<IPython.core.display.Math object>"
      ]
     },
     "metadata": {},
     "output_type": "display_data"
    },
    {
     "data": {
      "text/latex": [
       "$\\displaystyle (c) \\quad \\det(G) = -14$"
      ],
      "text/plain": [
       "<IPython.core.display.Math object>"
      ]
     },
     "metadata": {},
     "output_type": "display_data"
    },
    {
     "data": {
      "text/latex": [
       "$\\displaystyle (d) \\quad \\det(H) = -17$"
      ],
      "text/plain": [
       "<IPython.core.display.Math object>"
      ]
     },
     "metadata": {},
     "output_type": "display_data"
    }
   ],
   "source": [
    "display(Math(\"(a) \\quad \\det(A) = \" + sp.latex(A.det())))\n",
    "display(Math(\"(b) \\quad \\det(B) = \" + sp.latex(B.det())))\n",
    "display(Math(\"(c) \\quad \\det(G) = \" + sp.latex(G.det())))\n",
    "display(Math(\"(d) \\quad \\det(H) = \" + sp.latex(H.det())))"
   ]
  },
  {
   "cell_type": "markdown",
   "metadata": {},
   "source": [
    "```{solution} matrices-ex-inverse\n",
    "$A$:\n",
    "\n",
    "$$ \\begin{align*}\n",
    "    \\adj(A) &=\n",
    "    \\begin{pmatrix} 2 & -4 \\\\ 3 & 1 \\end{pmatrix}^\\mathsf{T}\n",
    "    = \n",
    "    \\begin{pmatrix} 2 & 3 \\\\ -4 & 1 \\end{pmatrix},  \\\\\n",
    "    \\therefore A^{-1} &= \\frac{1}{14} \\begin{pmatrix} 2 & 3 \\\\ -4 & 1 \\end{pmatrix}\n",
    "    = \\begin{pmatrix} 1/7 & 3/14 \\\\ -2/7 & 1/14 \\end{pmatrix}.\n",
    "\\end{align*} $$\n",
    "\n",
    "Check:\n",
    "\n",
    "$$ \\begin{align*}\n",
    "    AA^{-1} &=\n",
    "    \\begin{pmatrix} 1 & -3 \\\\ 4 & 2 \\end{pmatrix}\n",
    "    \\begin{pmatrix} 1/7 & 3/14 \\\\ -2/7 & 1/14 \\end{pmatrix}\n",
    "    =\n",
    "    \\begin{pmatrix} 1/7 + 6/7 & 3/14 - 3/14 \\\\ 4/7 - 4/7 & 12/14 + 2/14 \\end{pmatrix}\n",
    "    = \\begin{pmatrix} 1 & 0 \\\\ 0 & 1 \\end{pmatrix}.\n",
    "\\end{align*} $$\n",
    "\n",
    "$B$:\n",
    "\n",
    "$$ \\begin{align*}\n",
    "    \\adj{B} &=\n",
    "    \\begin{pmatrix} 5 & 1 \\\\ 0 & 3 \\end{pmatrix}^\\mathsf{T}\n",
    "    =\n",
    "    \\begin{pmatrix} 5 & 0 \\\\ 1 & 3 \\end{pmatrix}, \\\\\n",
    "    \\therefore B^{-1} &= \\frac{1}{15} \\begin{pmatrix} 5 & 0 \\\\ 1 & 3 \\end{pmatrix} \n",
    "    =\n",
    "    \\begin{pmatrix} 1/3 & 0 \\\\ 1/15 & 1/5 \\end{pmatrix}.\n",
    "\\end{align*} $$\n",
    "\n",
    "Check:\n",
    "\n",
    "$$ \\begin{align*}\n",
    "    BB^{-1} &=\n",
    "    \\begin{pmatrix} 3 & 0 \\\\ -1 & 5 \\end{pmatrix}\n",
    "    \\begin{pmatrix} 1/3 & 0 \\\\ 1/15 & 1/5 \\end{pmatrix}\n",
    "    =\n",
    "    \\begin{pmatrix} 1 + 0 & 0 + 0 \\\\ -1/3 + 5/15 & 0 + 1 \\end{pmatrix}\n",
    "    =\n",
    "    \\begin{pmatrix} 1 & 0 \\\\ 0 & 1 \\end{pmatrix}.\n",
    "\\end{align*} $$\n",
    "\n",
    "$G$:\n",
    "\n",
    "$$ \\begin{align*}\n",
    "    \\adj{G} &= \n",
    "    \\begin{pmatrix}\n",
    "          \\begin{vmatrix} 6 & 0 \\\\ 7 & 1 \\end{vmatrix} \n",
    "        &\n",
    "        - \\begin{vmatrix} -2 & 0 \\\\ 0 & 1 \\end{vmatrix}\n",
    "        &\n",
    "          \\begin{vmatrix} -2 & 6 \\\\ 0 & 7 \\end{vmatrix}\n",
    "        \\\\\n",
    "        - \\begin{vmatrix} 2 & 3 \\\\ 7 & 1 \\end{vmatrix}\n",
    "        &\n",
    "          \\begin{vmatrix} 4 & 3 \\\\ 0 & 1 \\end{vmatrix}\n",
    "        &\n",
    "        - \\begin{vmatrix} 4 & 2 \\\\ 0 & 7 \\end{vmatrix}\n",
    "        \\\\\n",
    "          \\begin{vmatrix} 2 & 3 \\\\ 6 & 0 \\end{vmatrix}\n",
    "        &\n",
    "        - \\begin{vmatrix} 4 & 3 \\\\ -2 & 0 \\end{vmatrix}\n",
    "        &\n",
    "          \\begin{vmatrix} 4 & 2 \\\\ -2 & 6 \\end{vmatrix}\n",
    "    \\end{pmatrix}^\\mathsf{T} \\\\   \n",
    "    &=\n",
    "    \\begin{pmatrix}\n",
    "          6 &  2 & -14 \\\\\n",
    "         19 &  4 & -28 \\\\\n",
    "        -18 & -6 &  28 \n",
    "    \\end{pmatrix}^\\mathsf{T}\n",
    "    =\n",
    "    \\begin{pmatrix}\n",
    "          6 &  19 & -18 \\\\\n",
    "          2 &   4 &  -6 \\\\\n",
    "        -14 & -28 &  28\n",
    "    \\end{pmatrix}, \\\\\n",
    "    \\therefore G^{-1} \n",
    "    &= -\\frac{1}{14}\n",
    "    \\begin{pmatrix}\n",
    "          6 &  19 & -18 \\\\\n",
    "          2 &   4 &  -6 \\\\\n",
    "        -14 & -28 &  28\n",
    "    \\end{pmatrix}\n",
    "    =\n",
    "    \\begin{pmatrix}\n",
    "        -3/7 & -19/14 &  9/7 \\\\\n",
    "        -1/7 &  -2/7  &  3/7 \\\\\n",
    "         1   &   2    & -2\n",
    "    \\end{pmatrix}.\n",
    "\\end{align*} $$\n",
    "\n",
    "Check:\n",
    "\n",
    "$$ \\begin{align*}\n",
    "    GG^{-1} &=\n",
    "    \\begin{pmatrix}\n",
    "         4 & 2 & 3 \\\\\n",
    "        -2 & 6 & 0 \\\\\n",
    "         0 & 7 & 1 \n",
    "    \\end{pmatrix}\n",
    "    \\begin{pmatrix}\n",
    "        -3/7 & -19/14 &  9/7 \\\\\n",
    "        -1/7 &  -2/7  &  3/7 \\\\\n",
    "         1   &   2    & -2\n",
    "    \\end{pmatrix} \\\\\n",
    "    &=\n",
    "    \\begin{pmatrix}\n",
    "        -12/7 - 2/7 + 3 & -76/14 -  4/7 + 6 &  36/7 +  6/7 - 6 \\\\\n",
    "          6/7 - 6/7 + 0 &  38/14 - 12/7 + 0 & -18/7 + 18/7 + 0 \\\\\n",
    "          0   - 7/7 + 1 &   0    - 14/7 + 2 &   0   + 21/7 - 2\n",
    "    \\end{pmatrix} \\\\\n",
    "    &=\n",
    "    \\begin{pmatrix}\n",
    "        1 & 0 & 0 \\\\\n",
    "        0 & 1 & 0 \\\\\n",
    "        0 & 0 & 1\n",
    "    \\end{pmatrix}\n",
    "\\end{align*} $$\n",
    "\n",
    "$H$:\n",
    "\n",
    "$$ \\begin{align*}\n",
    "    \\adj(H) &=\n",
    "    \\begin{pmatrix}\n",
    "          \\begin{vmatrix} 2 & -2 \\\\ -3 & 4 \\end{vmatrix}\n",
    "        &\n",
    "        - \\begin{vmatrix} 5 & -2 \\\\ 2 & 4 \\end{vmatrix}\n",
    "        &\n",
    "          \\begin{vmatrix} 5 & 2 \\\\ 2 & -3 \\end{vmatrix}\n",
    "        \\\\\n",
    "        - \\begin{vmatrix} 0 & 1 \\\\ -3 & 4 \\end{vmatrix}\n",
    "        &\n",
    "          \\begin{vmatrix} 1 & 1 \\\\ 2 & 4 \\end{vmatrix}\n",
    "        &\n",
    "        - \\begin{vmatrix} 1 & 0 \\\\ 2 & -3 \\end{vmatrix}\n",
    "        \\\\\n",
    "          \\begin{vmatrix} 0 & 1 \\\\ 2 & -2 \\end{vmatrix}\n",
    "        &\n",
    "        - \\begin{vmatrix} 1 & 1 \\\\ 5 & -2 \\end{vmatrix}\n",
    "        &\n",
    "          \\begin{vmatrix} 1 & 0 \\\\ 5 & 2 \\end{vmatrix}\n",
    "    \\end{pmatrix}^\\mathsf{T} \\\\\n",
    "    &=\n",
    "    \\begin{pmatrix}\n",
    "        2 & -24 & -19 \\\\\n",
    "        -3 & 2 & 3 \\\\\n",
    "        -2 & 7 & 2 \n",
    "    \\end{pmatrix}^\\mathsf{T}\n",
    "    =\n",
    "    \\begin{pmatrix}\n",
    "         2  & -3 & -2 \\\\\n",
    "        -24 &  2 &  7 \\\\\n",
    "        -19 &  3 &  2 \n",
    "    \\end{pmatrix}, \\\\\n",
    "    \\therefore H^{-1}\n",
    "    &= -\\frac{1}{17}\n",
    "    \\begin{pmatrix}\n",
    "         2  & -3 & -2 \\\\\n",
    "        -24 &  2 &  7 \\\\\n",
    "        -19 &  3 &  2 \n",
    "    \\end{pmatrix}\n",
    "    =\n",
    "    \\begin{pmatrix}\n",
    "        -2/17 &  3/17 &  2/17 \\\\\n",
    "        24/17 & -2/17 & -7/17 \\\\\n",
    "        19/17 & -3/17 & -2/17\n",
    "    \\end{pmatrix} .\n",
    "\\end{align*} $$\n",
    "\n",
    "Check:\n",
    "\n",
    "$$ \\begin{align*}\n",
    "    HH^{-1} &=\n",
    "    \\begin{pmatrix}\n",
    "        1 &  0 &  1 \\\\\n",
    "        5 &  2 & -2 \\\\\n",
    "        2 & -3 &  4 \n",
    "    \\end{pmatrix}\n",
    "    \\begin{pmatrix}\n",
    "        -2/17 &  3/17 &  2/17 \\\\\n",
    "        24/17 & -2/17 & -7/17 \\\\\n",
    "        19/17 & -3/17 & -2/17\n",
    "    \\end{pmatrix}\n",
    "    \\\\\n",
    "    &=\n",
    "    \\begin{pmatrix}\n",
    "        -2/17 +  0    + 19/17 &  3/17 - 3/17         &  2/17 - 2/17 \\\\\n",
    "        -5/17 + 48/17 - 38/17 & 15/17 - 4/17 +  6/17 & 10/17 - 14/17 + 4/17 \\\\ \n",
    "        -4/17 - 72/17 + 76/17 &  6/17 + 6/17 - 12/17 &  4/17 + 21/17 - 8/17\n",
    "    \\end{pmatrix}\n",
    "    \\\\\n",
    "    &=\n",
    "    \\begin{pmatrix}\n",
    "        1 & 0 & 0 \\\\\n",
    "        0 & 1 & 0 \\\\\n",
    "        0 & 0 & 1\n",
    "    \\end{pmatrix}\n",
    "\\end{align*} $$\n",
    "```"
   ]
  },
  {
   "cell_type": "code",
   "execution_count": 31,
   "metadata": {
    "tags": [
     "remove-cell"
    ]
   },
   "outputs": [
    {
     "data": {
      "text/latex": [
       "$\\displaystyle A^{-1} = \\left[\\begin{matrix}\\frac{1}{7} & \\frac{3}{14}\\\\- \\frac{2}{7} & \\frac{1}{14}\\end{matrix}\\right]$"
      ],
      "text/plain": [
       "<IPython.core.display.Math object>"
      ]
     },
     "metadata": {},
     "output_type": "display_data"
    },
    {
     "data": {
      "text/latex": [
       "$\\displaystyle B^{-1} = \\left[\\begin{matrix}\\frac{1}{3} & 0\\\\\\frac{1}{15} & \\frac{1}{5}\\end{matrix}\\right]$"
      ],
      "text/plain": [
       "<IPython.core.display.Math object>"
      ]
     },
     "metadata": {},
     "output_type": "display_data"
    },
    {
     "data": {
      "text/latex": [
       "$\\displaystyle G^{-1} = \\left[\\begin{matrix}- \\frac{3}{7} & - \\frac{19}{14} & \\frac{9}{7}\\\\- \\frac{1}{7} & - \\frac{2}{7} & \\frac{3}{7}\\\\1 & 2 & -2\\end{matrix}\\right]$"
      ],
      "text/plain": [
       "<IPython.core.display.Math object>"
      ]
     },
     "metadata": {},
     "output_type": "display_data"
    },
    {
     "data": {
      "text/latex": [
       "$\\displaystyle H^{-1} = \\left[\\begin{matrix}- \\frac{2}{17} & \\frac{3}{17} & \\frac{2}{17}\\\\\\frac{24}{17} & - \\frac{2}{17} & - \\frac{7}{17}\\\\\\frac{19}{17} & - \\frac{3}{17} & - \\frac{2}{17}\\end{matrix}\\right]$"
      ],
      "text/plain": [
       "<IPython.core.display.Math object>"
      ]
     },
     "metadata": {},
     "output_type": "display_data"
    }
   ],
   "source": [
    "\n",
    "display(Math(\"A^{-1} = \" + sp.latex(A.inv())))\n",
    "display(Math(\"B^{-1} = \" + sp.latex(B.inv())))\n",
    "display(Math(\"G^{-1} = \" + sp.latex(G.inv())))\n",
    "display(Math(\"H^{-1} = \" + sp.latex(H.inv())))"
   ]
  },
  {
   "cell_type": "markdown",
   "metadata": {},
   "source": [
    "```{solution} matrices-ex-AAT-symmetric\n",
    "\n",
    "For $AA^\\mathsf{T}$ to be symmetric we need to show that $AA^\\mathsf{T} = (AA^\\mathsf{T})^\\mathsf{T}$\n",
    "\n",
    "$$ \\begin{align*}\n",
    "    (AA^\\mathsf{T})^\\mathsf{T} &= \n",
    "    (A^\\mathsf{T})^\\mathsf{T}A^\\mathsf{T} && \\textsf{since $(AB)^\\mathsf{T} = B^\\mathsf{T}A^\\mathsf{T}$} \\\\\n",
    "    &= AA^\\mathsf{T} && \\textsf{since $(A^\\mathsf{T})^\\mathsf{T} = A$.}\n",
    "\\end{align*} $$\n",
    "\n",
    "So $AA^\\mathsf{T}$ is symmetric\n",
    "```\n",
    "\n",
    "```{solution} matrices-ex-invAB\n",
    "\n",
    "To prove that $(AB)^{-1} = B^{-1}A^{-1}$ we need to show that $(AB)(B^{-1}A^{-1}) = I$\n",
    "\n",
    "$$ \\begin{align*}\n",
    "    (AB)(B^{-1}A^{-1}) \n",
    "    &= A(BB^{-1}A^{-1}) && \\textsf{associativity law} \\\\\n",
    "    &= A(IA^{-1}) && \\textsf{since $BB^{-1} = I$} \\\\\n",
    "    &= AA^{-1} && \\textsf{since $AI = IA = A$}\\\\\n",
    "    &= I    && \\textsf{definition of $A^{-1}.$} \n",
    "\\end{align*} $$\n",
    "\n",
    "Therefore $(AB)^{-1} = B^{-1}A^{-1}$.\n",
    "\n",
    "```\n",
    "\n",
    "```{solution} matrices-ex-AplusBsquared\n",
    "\n",
    "Expanding out $(A + B)^2$\n",
    "\n",
    "$$ (A + B)^2 = (A + B)(A + B) = A^2 + AB + BA + B^2, $$\n",
    "\n",
    "therefore $(A + B)^2 \\neq A^2 + 2AB + B^2$.\n",
    "\n",
    "This would be true if $AB = BA$, i.e., $A = B$ or $A = I$ or $B = I$.\n",
    "```\n",
    "\n",
    "```{solution} matrices-ex-involutory-matrix\n",
    "\n",
    "We need to show that $A^2 = I$\n",
    "\n",
    "$$ \\begin{align*}\n",
    "    A^2 =\n",
    "    \\begin{pmatrix} a & b \\\\ c & -a \\end{pmatrix} \n",
    "    \\begin{pmatrix} a & b \\\\ c & -a \\end{pmatrix} \n",
    "    = \n",
    "    \\begin{pmatrix} a^2 + bc & 0 \\\\ 0 & a^2 + bc \\end{pmatrix},\n",
    "\\end{align*} $$\n",
    "\n",
    "so $a^2 + bc = 1$ for $A$ to be an [involutory matrix](https://en.wikipedia.org/wiki/Involutory_matrix).\n",
    "```\n",
    "\n",
    "```{solution} matrices-ex-trueorfalse\n",
    "\n",
    "(a) &emsp; True \n",
    "\n",
    "Proof: Right multiply both sides of $A = B$ by $C$.\n",
    "\n",
    "(b) &emsp; False, e.g., if $C = \\begin{pmatrix} 0 & 0 \\\\ 0 & 0 \\end{pmatrix}$ then this would hold for any two matrices.\n",
    "\n",
    "(c) &emsp; False, e.g., if $A = \\begin{pmatrix} 1 & 0 \\\\ 0 & 0 \\end{pmatrix}$ and $B = \\begin{pmatrix} 0 & 0 \\\\ 1 & 0 \\end{pmatrix}$ then $AB = O$.\n",
    "\n",
    "(d) &emsp; True \n",
    "\n",
    "Proof: Add $C$ to both sides of $A = B$.\n",
    "\n",
    "(e) &emsp; False, e.g., if $A = \\begin{pmatrix} 1 & 0 \\\\ 0 & -1 \\end{pmatrix}$ then $A^2 = I$.\n",
    "\n",
    "(f) &emsp; True \n",
    "\n",
    "Proof: If $B = A^2$ then $b_{ii} = \\sum_{k=1}^n a_{ik}a_{ki}$ and since $A$ is symmetric then $a_{ik} = a_{ki}$ for $i = 1, 2, \\ldots, n$ so $b_{ii} = \\sum_{k=1}^n = a_{ij}^2$ which is always greater than or equal to 0.\n",
    "\n",
    "(g) &emsp; True\n",
    "\n",
    "Proof: \n",
    "- Let $A$ and $B$ be two $n \\times n$ matrices then $C$ is also an $n \\times n$ matrix.\n",
    "- Let $A$ be an $n \\times n$ matrix and $C$ be an $m \\times m$ matrix and $B$ is a $p \\times q$ matrix. $p = n$ and $q = m$ but $m = n$ so $p = q = m$ and $B$ is a square matrix.\n",
    "- Ley $B$ be an $m \\times m$ matrix and $C$ be an $n \\times n$ matrix and $A$ is a $p \\times q$ matrix. $p = n$ and $q = m$ but $m = n$ so $p = q = m$ and $A$ is a square matrix.\n",
    "\n",
    "(h) &emsp; True\n",
    "\n",
    "Proof: Let $B$ be a $p \\times q$ matrix then since $C$ is an $m \\times 1$ matrix then $q = 1$.\n",
    "\n",
    "(i) &emsp; False, e.g., if $A = \\begin{pmatrix} 0 & 1 \\\\ 1 & 0 \\end{pmatrix}$ then $A^3 = A$.\n",
    "```"
   ]
  },
  {
   "cell_type": "markdown",
   "metadata": {},
   "source": [
    "```{solution} matrices-ex7\n",
    "\n",
    "(a)\n",
    "\n",
    "$$ \\begin{align*}\n",
    "    5X &= A \\\\\n",
    "    X &= \\frac{1}{5} A \\\\\n",
    "    &= \\dfrac{1}{5}\\begin{pmatrix} 1 & -3 \\\\ 4 & 2 \\end{pmatrix} \n",
    "    = \\begin{pmatrix} \\frac{1}{5} & -\\frac{3}{5} \\\\ \\frac{4}{5} & \\frac{2}{5} \\end{pmatrix}\n",
    "\\end{align*} $$\n",
    "\n",
    "(b)\n",
    "\n",
    "$$ \\begin{align*}\n",
    "    X + A &= I \\\\\n",
    "    X &= I - A \\\\\n",
    "    &= \\begin{pmatrix} 1 & 0 \\\\ 0 & 1 \\end{pmatrix} - \\begin{pmatrix} 1 & -3 \\\\ 4 & 2 \\end{pmatrix} = \\begin{pmatrix} 0 & 3 \\\\ -4 & -1 \\end{pmatrix}\n",
    "\\end{align*} $$\n",
    "\n",
    "(c)\n",
    "\n",
    "$$ \\begin{align*}\n",
    "    2X - B &= A \\\\\n",
    "    2X &= A + B \\\\\n",
    "    X &= \\dfrac{1}{2}(A + B) = \\dfrac{1}{2}\\left( \\begin{pmatrix} 1 & -3 \\\\ 4 & 2 \\end{pmatrix} + \\begin{pmatrix} 3 & 0 \\\\ -1 & 5 \\end{pmatrix} \\right) \\\\\n",
    "    &= \\dfrac{1}{2} \\begin{pmatrix} 4 & -3 \\\\ 3 & 7 \\end{pmatrix} = \\begin{pmatrix} 2 & -\\frac{3}{2} \\\\ \\frac{3}{2} & \\frac{7}{2} \\end{pmatrix}\n",
    "\\end{align*} $$\n",
    "\n",
    "(d)\n",
    "\n",
    "$$ \\begin{align*}\n",
    "    XA &= I \\\\\n",
    "    X &= IA^{-1} = A^{-1}I \\\\\n",
    "    &= \\dfrac{1}{14} \\begin{pmatrix} 2 & 3 \\\\ -4 & 1 \\end{pmatrix} = \\begin{pmatrix} \\frac{1}{7} & \\frac{3}{14} \\\\ -\\frac{2}{7} & \\frac{1}{14} \\end{pmatrix}\n",
    "\\end{align*} $$\n",
    "\n",
    "(e)\n",
    "\n",
    "$$ \\begin{align*}\n",
    "    BX &= A \\\\\n",
    "    X &= B^{-1}A \\\\\n",
    "    &= \\dfrac{1}{15}\\begin{pmatrix} 5 & 0 \\\\ 1 & 3 \\end{pmatrix} \\begin{pmatrix} 1 & -3 \\\\ 4 & 2 \\end{pmatrix} \\\\\n",
    "    &= \\dfrac{1}{15} \\begin{pmatrix} 5 & -15 \\\\ 13 & 3\\end{pmatrix} = \\begin{pmatrix} \\frac{1}{3} & -1 \\\\ \\frac{13}{15} & \\frac{1}{5} \\end{pmatrix}\n",
    "\\end{align*} $$\n",
    "\n",
    "(f)\n",
    "\n",
    "$$ \\begin{align*}\n",
    "    A^2 &= X \\\\\n",
    "    X &= \\begin{pmatrix} 1 & -3 \\\\ 4 & 2 \\end{pmatrix}\\begin{pmatrix} 1 & -3 \\\\ 4 & 2 \\end{pmatrix} = \\begin{pmatrix} -11 & -9 \\\\ 12 & -8 \\end{pmatrix}\n",
    "\\end{align*} $$\n",
    "\n",
    "(g) &emsp; We begin by setting $X = \\begin{pmatrix}a & b \\\\ c & d\\end{pmatrix}$, and then $X^2 = B$ gives\n",
    "\n",
    "$$ \\begin{align*}\n",
    "    \\begin{pmatrix}a^2 + bc & ab + bd \\\\ ca+dc & cb+d^2\\end{pmatrix} =\n",
    "    \\begin{pmatrix} a^2 + bc & b(a + d) \\\\ c(a + d) & cb + d^2 \\end{pmatrix} =\n",
    "    \\begin{pmatrix} 3 & 0 \\\\ -1 & 5 \\end{pmatrix}.\n",
    "\\end{align*} $$\n",
    "\n",
    "Now we can solve the quadratic equations over $\\mathbb{R}$, since $[X^2]_{12} = 0$ then\n",
    "\n",
    "$$ \\begin{align*}\n",
    "    b(a + d) &= 0 \\\\\n",
    "    \\therefore b &= 0 \\text{ or } a = -d.\n",
    "\\end{align*} $$\n",
    "\n",
    "For the case when $b = 0$\n",
    "\n",
    "$$ \\begin{align*}\n",
    "    a^2 + bc &= 3 \\implies a = \\pm \\sqrt{3}, \\\\\n",
    "    cb + d^2 &= 5 \\implies d = \\pm \\sqrt{5}.\n",
    "\\end{align*} $$\n",
    "\n",
    "So we have four possible solutions\n",
    "\n",
    "$$ \\begin{align*}\n",
    "    X &= \\begin{pmatrix} \\pm \\sqrt{3} & 0 \\\\ - 1 / (\\pm \\sqrt{3} \\pm \\sqrt{5}) & \\pm\\sqrt{5} \\end{pmatrix}, \\text{ or }\\\\\n",
    "    X &= \\begin{pmatrix} \\pm \\sqrt{3} & 0 \\\\ - 1 / (\\pm \\sqrt{3} \\mp \\sqrt{5}) & \\mp\\sqrt{5} \\end{pmatrix}.\n",
    "\\end{align*} $$\n",
    "\n",
    "For the case when $a = -d$\n",
    "\n",
    "$$ \\begin{align*}\n",
    "    c(a + d) = 0c = -1,\n",
    "\\end{align*} $$\n",
    "\n",
    "which is a contradiction so $a = -d$ yields no solutions.\n",
    "\n",
    "(h) \n",
    "\n",
    "$$ \\begin{align*}\n",
    "    (X + A)B &= I \\\\\n",
    "    X + A &= I B^{-1} \\\\\n",
    "    X &= B^{-1} - A \\\\\n",
    "    &= \\frac{1}{15} \\begin{pmatrix} 5 & 0 \\\\ 1 & 3 \\end{pmatrix} - \n",
    "    \\begin{pmatrix} 1 & -3 \\\\ 4 & 2 \\end{pmatrix} \\\\\n",
    "    &= \\begin{pmatrix} -2/3 & 3 \\\\ -59/15 & -9/5 \\end{pmatrix} \\\\\n",
    "    &= \\frac{1}{15} \\begin{pmatrix} -10 & 45 \\\\ -59 & -27 \\end{pmatrix}\n",
    "\\end{align*} $$\n",
    "```"
   ]
  }
 ],
 "metadata": {
  "kernelspec": {
   "display_name": "base",
   "language": "python",
   "name": "python3"
  },
  "language_info": {
   "codemirror_mode": {
    "name": "ipython",
    "version": 3
   },
   "file_extension": ".py",
   "mimetype": "text/x-python",
   "name": "python",
   "nbconvert_exporter": "python",
   "pygments_lexer": "ipython3",
   "version": "3.11.5"
  }
 },
 "nbformat": 4,
 "nbformat_minor": 2
}